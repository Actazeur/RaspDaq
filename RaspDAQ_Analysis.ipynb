{
 "cells": [
  {
   "cell_type": "code",
   "execution_count": 1,
   "id": "5d4c5a5e",
   "metadata": {},
   "outputs": [],
   "source": [
    "import csv\n",
    "import matplotlib.pyplot as plt\n",
    "import numpy as np"
   ]
  },
  {
   "cell_type": "code",
   "execution_count": 2,
   "id": "5b3a703d",
   "metadata": {},
   "outputs": [],
   "source": [
    "def get_data():\n",
    "    with open('temperature.csv', 'r') as myfile:\n",
    "        password=myfile.readlines()\n",
    "    return password[0]"
   ]
  },
  {
   "cell_type": "code",
   "execution_count": 3,
   "id": "9c141353",
   "metadata": {},
   "outputs": [],
   "source": [
    "data = get_data()\n",
    "data = data.split(',')\n",
    "data.pop()\n",
    "data = [float(val) for val in data]\n"
   ]
  },
  {
   "cell_type": "code",
   "execution_count": 4,
   "id": "bae0d2f4",
   "metadata": {
    "scrolled": true
   },
   "outputs": [
    {
     "data": {
      "text/plain": [
       "2980"
      ]
     },
     "execution_count": 4,
     "metadata": {},
     "output_type": "execute_result"
    }
   ],
   "source": [
    "len(data)"
   ]
  },
  {
   "cell_type": "code",
   "execution_count": 5,
   "id": "5fc6dc48",
   "metadata": {},
   "outputs": [
    {
     "name": "stdout",
     "output_type": "stream",
     "text": [
      " Mean: 26.42, standard deviation: 0.72\n",
      " Variance: 0.52, median: 26.63\n"
     ]
    },
    {
     "data": {
      "image/png": "[encoded data removed]",
      "text/plain": [
       "<Figure size 432x288 with 1 Axes>"
      ]
     },
     "metadata": {
      "needs_background": "light"
     },
     "output_type": "display_data"
    }
   ],
   "source": [
    "plt.plot(data)\n",
    "dev = np.std(data)\n",
    "average = np.mean(data)\n",
    "var = np.var(data)\n",
    "median = np.median(data)\n",
    "\n",
    "print(f' Mean: {round(average, 2)}, standard deviation: {round(dev,2)}\\n Variance: {round(var,2)}, median: {median}')"
   ]
  },
  {
   "cell_type": "code",
   "execution_count": null,
   "id": "809ae9a0",
   "metadata": {},
   "outputs": [],
   "source": []
  }
 ],
 "metadata": {
  "kernelspec": {
   "display_name": "Python 3 (ipykernel)",
   "language": "python",
   "name": "python3"
  },
  "language_info": {
   "codemirror_mode": {
    "name": "ipython",
    "version": 3
   },
   "file_extension": ".py",
   "mimetype": "text/x-python",
   "name": "python",
   "nbconvert_exporter": "python",
   "pygments_lexer": "ipython3",
   "version": "3.7.1"
  }
 },
 "nbformat": 4,
 "nbformat_minor": 5
}
